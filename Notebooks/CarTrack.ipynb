{
 "cells": [
  {
   "cell_type": "code",
   "execution_count": 1,
   "id": "cb647e0e",
   "metadata": {},
   "outputs": [],
   "source": [
    "import pyspark\n",
    "from pyspark.sql import SparkSession\n",
    "from pyspark.sql.functions import *\n",
    "\n",
    "import matplotlib.pyplot as plt\n",
    "import seaborn\n",
    "\n",
    "import os\n",
    "import glob\n",
    "\n",
    "import numpy as np\n",
    "import math\n",
    "\n",
    "import datetime, time\n",
    "from datetime import datetime\n",
    "\n",
    "\n",
    "\n",
    "import geopandas as gpd\n",
    "import geopy\n",
    "from geopy.geocoders import Nominatim\n",
    "import os\n",
    "import plotly\n",
    "import plotly.express as ex\n",
    "import plotly.graph_objs as go\n",
    "import matplotlib.pyplot as plt"
   ]
  },
  {
   "cell_type": "code",
   "execution_count": 2,
   "id": "4e8148b1",
   "metadata": {},
   "outputs": [],
   "source": [
    "def plotVelocity(df, time=\"Date\"):\n",
    "    fig, ax = plt.subplots()\n",
    "    ax.plot([getTimestamp(x.Date) for x in df.select(time).collect()], [x.velocity for x in df.select('velocity').collect()] )\n",
    "    \n",
    "def plotFigure(df, time=\"Date\", velocity=\"velocity\"):\n",
    "    x = df.select(time).toPandas()[time]\n",
    "    y = df.select(velocity).toPandas()[velocity]\n",
    "    fig = go.Figure([go.Scatter(x=x, y=y)])\n",
    "    fig.show()\n",
    "    \n",
    "def plotMap(dataframe):\n",
    "    temp = dataframe.toPandas()\n",
    "    \n",
    "    fig = ex.scatter_mapbox(\n",
    "        temp, lat=temp['Latitude'], \n",
    "        lon=temp['Longitude'], \n",
    "        zoom=10, \n",
    "        opacity=1, \n",
    "        size_max=20, \n",
    "        title=\"GeoTagging\", \n",
    "        width=1200, \n",
    "        height =800, \n",
    "        template=\"plotly_dark\", \n",
    "        hover_data=['Date'])\n",
    "    fig.update_layout(mapbox_style=\"open-street-map\")\n",
    "    fig.update_layout(margin={\"r\":0,\"t\":0,\"l\":0,\"b\":0})\n",
    "    fig.show() "
   ]
  },
  {
   "cell_type": "code",
   "execution_count": 3,
   "id": "7a04fd3e",
   "metadata": {},
   "outputs": [],
   "source": [
    "def instAcc(df):\n",
    "    dy = np.diff(\n",
    "        np.array([x.velocity for x in df.select('velocity').collect()]\n",
    "    ))\n",
    "    \n",
    "    time = np.array([datetime.timestamp(x.timestamp) for x in df.select('timestamp').collect()])\n",
    "    dx = np.diff(time)\n",
    "    dy_dx = dy/dx\n",
    "    xprime = []\n",
    "    for i in range(len(dy)-1):\n",
    "        xtemp = (time[i+1] + time[i])/2\n",
    "        xprime = np.append(xprime, xtemp)\n",
    "        \n",
    "    end_pad = time[len(time)-1] +(time[len(time)-1]-time[len(time)-2])\n",
    "    xtemp = 0.5*(end_pad + time[len(time)-1])\n",
    "    xprime = np.append(xprime, xtemp)\n",
    "    return xprime, dy_dx\n",
    "\n",
    "\n",
    "\n",
    "def central_difference(x, y):\n",
    "    \n",
    "    h = x[1] - x[0]\n",
    "    diff = [\n",
    "        (y[1]-y[0])/(x[1]-(x[0]-h))\n",
    "    ]\n",
    "    \n",
    "    for i in range(1, len(y)-1):\n",
    "        temp = (y[i+1]-y[i-1])/(x[i+1]-x[i-1])\n",
    "        diff = np.append(diff, temp)\n",
    "    \n",
    "    h = x[len(y)-1] - x[len(y)-2]\n",
    "    diff = np.append(\n",
    "        diff,\n",
    "        (y[len(y)-1]-y[len(y)-2])/((x[len(y)-1]+h)-x[len(y)-2])\n",
    "    )\n",
    "    \n",
    "    return x, diff\n",
    "\n",
    "def getTimeVelocity(df): \n",
    "    time = [x.Date for x in df.select(\"Date\").collect()]\n",
    "    velocity = [x.velocity for x in df.select('velocity').collect()]\n",
    "    return time, velocity\n",
    "\n",
    "\n",
    "def instAcceleration(df, time=\"Date\", velocity=\"velocity\"):\n",
    "    time, velocity = [(x.time, x.velocity) for x in df.select([time, velocity]).collect()]\n",
    "    \n",
    "    "
   ]
  },
  {
   "cell_type": "code",
   "execution_count": 4,
   "id": "5622f0f0",
   "metadata": {},
   "outputs": [],
   "source": [
    "def rad(d):\n",
    "    return float(d)*math.pi/180\n",
    "\n",
    "def getDistance(lat1, long1, lat2, long2):\n",
    "    r = 6378\n",
    "    a = rad(lat2) - rad(lat1)\n",
    "    b = rad(long2) - rad(long1)\n",
    "    \n",
    "    a = math.pow(math.sin(a/2), 2) + math.pow(math.sin(b/2), 2)*math.cos(lat1)*math.cos(lat2)\n",
    "    c = 2*math.asin(math.sqrt(a))   \n",
    "    return r*c\n",
    "def getCoordinates(df):\n",
    "    latitude = [x.latitude for x in df.select('latitude').collect()]\n",
    "    longitude = [ x.longitude for x in df.select( 'longitude').collect()]\n",
    "    return latitude, longitude \n",
    "\n",
    "def meanCoordinate(lat, long, i, j):\n",
    "    amount = j-i+1\n",
    "    \n",
    "    if amount ==0:\n",
    "        return float(lat[i]), float(long[i])\n",
    "    \n",
    "    sumLat = 0\n",
    "    sumLong = 0\n",
    "    \n",
    "    for k in range(i, j+1):\n",
    "        sumLat += float(lat[k])\n",
    "        sumLong += float(long[k])\n",
    "        \n",
    "    return sumLat/amount, sumLong/amount\n",
    "\n",
    "\n",
    "def deltaTime(dates, i, j):\n",
    "    return datetime.timestamp(dates[j])- datetime.timestamp(dates[i])\n",
    "\n",
    "def StayPoint_Detection(df, distThresh, timeThresh):\n",
    "    lat, long = getCoordinates(df)\n",
    "    dates = [x.Date for  x  in df.select(\"Date\").collect()]\n",
    "    \n",
    "    N = df.count()\n",
    "    SP = []\n",
    "    i = 0\n",
    "    while i < N:\n",
    "        j = i + 1\n",
    "        Token = 0\n",
    "        while j < N:\n",
    "            distance = getDistance(lat[i], long[i], lat[j], long[j])\n",
    "            if distance > float(distThresh):\n",
    "                if deltaTime(dates, i, j) > timeThresh:\n",
    "                    S_lat, S_long = meanCoordinate(lat, long, i , j-1)\n",
    "                    t_arrive = dates[i].strftime(\"%Y/%m/%d, %H:%M:%S\")\n",
    "                    t_depart = dates[j-1].strftime(\"%Y/%m/%d, %H:%M:%S\")\n",
    "                    SP.append([S_lat, S_long, t_arrive, t_depart, [i, j-1]])\n",
    "                    i = j\n",
    "                    Token = 1\n",
    "                break\n",
    "            j+=1\n",
    "        if Token != 1:\n",
    "            i += 1\n",
    "    return SP\n",
    "    \n",
    "    "
   ]
  },
  {
   "cell_type": "code",
   "execution_count": 5,
   "id": "3beb710c",
   "metadata": {},
   "outputs": [],
   "source": [
    "spark = SparkSession.builder.appName(\"App\").getOrCreate()"
   ]
  },
  {
   "cell_type": "code",
   "execution_count": 6,
   "id": "83a27d03",
   "metadata": {},
   "outputs": [
    {
     "data": {
      "text/plain": [
       "'D:\\\\Telematics\\\\Car Track\\\\Data'"
      ]
     },
     "execution_count": 6,
     "metadata": {},
     "output_type": "execute_result"
    }
   ],
   "source": [
    "data_dir = 'D:\\\\Telematics\\\\Car Track\\\\Data'\n",
    "data_dir"
   ]
  },
  {
   "cell_type": "code",
   "execution_count": 7,
   "id": "d1c1911d",
   "metadata": {},
   "outputs": [
    {
     "data": {
      "text/plain": [
       "['CA641377-2022-08-01-23_21_41-2022-08-01-23_47_00.csv']"
      ]
     },
     "execution_count": 7,
     "metadata": {},
     "output_type": "execute_result"
    }
   ],
   "source": [
    "os.listdir(data_dir)"
   ]
  },
  {
   "cell_type": "code",
   "execution_count": 8,
   "id": "3c47b69e",
   "metadata": {},
   "outputs": [],
   "source": [
    "df = spark.read.csv(os.path.join(data_dir, os.listdir(data_dir)[0]), inferSchema=True, header=True, sep=\";\")"
   ]
  },
  {
   "cell_type": "code",
   "execution_count": 9,
   "id": "e45fdd69",
   "metadata": {},
   "outputs": [
    {
     "name": "stdout",
     "output_type": "stream",
     "text": [
      "root\n",
      " |-- Events: string (nullable = true)\n",
      " |-- Vision Events: string (nullable = true)\n",
      " |-- Date: timestamp (nullable = true)\n",
      " |-- Latitude: double (nullable = true)\n",
      " |-- Longitude: double (nullable = true)\n",
      " |-- Speed: integer (nullable = true)\n",
      " |-- Road Speed: integer (nullable = true)\n",
      " |-- Odometer: string (nullable = true)\n",
      " |-- Linear G: string (nullable = true)\n",
      " |-- Lateral G: string (nullable = true)\n",
      " |-- Location: string (nullable = true)\n",
      " |-- Geofences: string (nullable = true)\n",
      "\n"
     ]
    },
    {
     "data": {
      "text/plain": [
       "137"
      ]
     },
     "execution_count": 9,
     "metadata": {},
     "output_type": "execute_result"
    }
   ],
   "source": [
    "df.printSchema()\n",
    "df.count()"
   ]
  },
  {
   "cell_type": "code",
   "execution_count": null,
   "id": "df782788",
   "metadata": {},
   "outputs": [],
   "source": []
  },
  {
   "cell_type": "code",
   "execution_count": 10,
   "id": "e16c47f6",
   "metadata": {},
   "outputs": [
    {
     "data": {
      "text/plain": [
       "136"
      ]
     },
     "execution_count": 10,
     "metadata": {},
     "output_type": "execute_result"
    }
   ],
   "source": [
    "df_clean = df.drop(\"Events\", \"Vision Events\", \"Geofences\", \"Location\", \"Odometer\", \"Linear G\", \"Lateral G\", \"Road Speed\").dropDuplicates().sort(\"Date\").withColumnRenamed(\"Speed\", \"velocity\")\n",
    "\n",
    "df_clean.count()"
   ]
  },
  {
   "cell_type": "code",
   "execution_count": 11,
   "id": "ab0b666d",
   "metadata": {
    "scrolled": true
   },
   "outputs": [],
   "source": [
    "def getTimestamp(DT: datetime):\n",
    "    return datetime.timestamp(DT)\n",
    "\n",
    "def getTimestampArr(arr : list):\n",
    "    return [datetime.timestamp(x) for x in arr]"
   ]
  },
  {
   "cell_type": "code",
   "execution_count": null,
   "id": "67e5b9af",
   "metadata": {},
   "outputs": [],
   "source": [
    "getTimestamp(df_clean.select(\"Date\").take(1)[0].Date)"
   ]
  },
  {
   "cell_type": "code",
   "execution_count": null,
   "id": "cb83b4a7",
   "metadata": {},
   "outputs": [],
   "source": [
    "diff = np.diff([getTimestamp(x.Date) for x in df_clean.select(\"Date\").collect()])"
   ]
  },
  {
   "cell_type": "code",
   "execution_count": null,
   "id": "be0d3ffd",
   "metadata": {},
   "outputs": [],
   "source": [
    "plotVelocity(df_clean)"
   ]
  },
  {
   "cell_type": "code",
   "execution_count": null,
   "id": "632f8d83",
   "metadata": {},
   "outputs": [],
   "source": [
    "plotFigure(df_clean)"
   ]
  },
  {
   "cell_type": "code",
   "execution_count": null,
   "id": "bd9972e7",
   "metadata": {},
   "outputs": [],
   "source": [
    "plotMap(df_clean)"
   ]
  },
  {
   "cell_type": "code",
   "execution_count": 12,
   "id": "3f98dd1e",
   "metadata": {},
   "outputs": [],
   "source": [
    "lat, long = getCoordinates(df_clean)\n",
    "\n",
    "dates = [x.Date for  x  in df.select(\"Date\").collect()]\n",
    "    \n",
    "N = df.count()\n",
    "SP = []\n",
    "distThresh = 100/1000\n",
    "timeThresh = 50"
   ]
  },
  {
   "cell_type": "code",
   "execution_count": null,
   "id": "6f27a44f",
   "metadata": {},
   "outputs": [],
   "source": [
    "i = 0\n",
    "while i < N:\n",
    "    j = i + 1\n",
    "    Token = 0\n",
    "    while j < N:\n",
    "        distance = getDistance(lat[i], long[i], lat[j], long[j])\n",
    "        print(\"Distance: \", distance)\n",
    "        dt = deltaTime(dates, i, j)\n",
    "        print(\"Delta t: \", dt)\n",
    "        '''\n",
    "        if distance > float(distThresh):\n",
    "            \n",
    "             \n",
    "            print(\"Delta t: \", dt)\n",
    "             \n",
    "            if dt > timeThresh:\n",
    "                S_lat, S_long = meanCoordinate(lat, long, i , j-1)\n",
    "                t_arrive = dates[i].strftime(\"%Y/%m/%d, %H:%M:%S\")\n",
    "                t_depart = dates[j-1].strftime(\"%Y/%m/%d, %H:%M:%S\")\n",
    "                SP.append([S_lat, S_long, t_arrive, t_depart, [i, j-1]])\n",
    "                i = j\n",
    "                Token = 1\n",
    "            break\n",
    "            '''\n",
    "        j+=1\n",
    "    i +=1"
   ]
  },
  {
   "cell_type": "code",
   "execution_count": null,
   "id": "a7ff1408",
   "metadata": {
    "scrolled": true
   },
   "outputs": [],
   "source": [
    "total = 0\n",
    "for i in range(len(lat)-1):\n",
    "    print(\"Distances (m)\", getDistance(lat[i], long[i], lat[i+1], long[i+1])*1000)\n",
    "    total += getDistance(lat[i], long[i], lat[i+1], long[i+1])\n",
    "    #print(\"dT\", deltaTime(dates, i, i+1))\n",
    "    \n",
    "print(total)"
   ]
  },
  {
   "cell_type": "code",
   "execution_count": null,
   "id": "8138d5a5",
   "metadata": {},
   "outputs": [],
   "source": [
    "distThresh"
   ]
  },
  {
   "cell_type": "code",
   "execution_count": null,
   "id": "6448762e",
   "metadata": {},
   "outputs": [],
   "source": [
    "dates"
   ]
  },
  {
   "cell_type": "code",
   "execution_count": null,
   "id": "b1092d9c",
   "metadata": {},
   "outputs": [],
   "source": [
    "pd = df_clean.toPandas()\n",
    "\n",
    "pd = pd.set_index('Date')"
   ]
  },
  {
   "cell_type": "code",
   "execution_count": null,
   "id": "70da7d75",
   "metadata": {},
   "outputs": [],
   "source": [
    "df_clean.show()"
   ]
  },
  {
   "cell_type": "code",
   "execution_count": null,
   "id": "1b003d07",
   "metadata": {},
   "outputs": [],
   "source": [
    "pd.resample('10s').ffill().dropna()"
   ]
  },
  {
   "cell_type": "code",
   "execution_count": null,
   "id": "6b7ca703",
   "metadata": {},
   "outputs": [],
   "source": [
    "pd = pd.resample('10s').ffill().dropna()\n",
    "pd.head(n=50)"
   ]
  },
  {
   "cell_type": "code",
   "execution_count": null,
   "id": "2c48a2f6",
   "metadata": {},
   "outputs": [],
   "source": [
    "clean = spark.createDataFrame(pd)"
   ]
  },
  {
   "cell_type": "code",
   "execution_count": null,
   "id": "355d0ff4",
   "metadata": {},
   "outputs": [],
   "source": [
    "clean.show()"
   ]
  },
  {
   "cell_type": "code",
   "execution_count": null,
   "id": "c4531b32",
   "metadata": {},
   "outputs": [],
   "source": [
    "small = pd.head(n=10)\n",
    "small = small.reset_index()\n",
    "small"
   ]
  },
  {
   "cell_type": "code",
   "execution_count": null,
   "id": "21bcf874",
   "metadata": {},
   "outputs": [],
   "source": [
    "time = [datetime.timestamp(x) for x in dates]\n",
    "velocity = [x.velocity for x in df_clean.select('velocity').collect()]"
   ]
  },
  {
   "cell_type": "code",
   "execution_count": null,
   "id": "5722e48f",
   "metadata": {},
   "outputs": [],
   "source": [
    "velocity"
   ]
  },
  {
   "cell_type": "code",
   "execution_count": null,
   "id": "073a6b9b",
   "metadata": {},
   "outputs": [],
   "source": [
    "_, y= central_difference(time, velocity)\n",
    "fig = go.Figure([go.Scatter(x=dates, y=y)])\n",
    "fig.show()"
   ]
  },
  {
   "cell_type": "code",
   "execution_count": null,
   "id": "18d5fed4",
   "metadata": {},
   "outputs": [],
   "source": [
    "len(y)"
   ]
  },
  {
   "cell_type": "code",
   "execution_count": null,
   "id": "9bb0fdd4",
   "metadata": {},
   "outputs": [],
   "source": [
    "Cd = 0.33\n",
    "A = 1.45*1.78\n",
    "m = 1300\n",
    "mu = 0.02\n",
    "theta = 0\n",
    "p = 1.2754\n",
    "g = 9.8\n",
    "def Fd(m, a, v, mu, Cd, A, theta):\n",
    "    p = 1.2754\n",
    "    g = 9.8\n",
    "    return (0.5*p*Cd*A*math.pow(v,2) + mu*m*g*math.cos(theta) + m*g*math.sin(theta)+m*a)\n",
    "power = 0\n",
    "for i in range(len(y)):\n",
    "    power += (Fd(m, y[i], velocity[i]/3.6, mu, Cd, A, 0)*(velocity[i]/3.6))\n",
    "    print((Fd(m, y[i], velocity[i]/3.6, mu, Cd, A, 0)*(velocity[i]/3.6))/1000)\n",
    "    print(\"Drag: \",0.5*p*Cd*A*math.pow(velocity[i],2))\n",
    "    print( \"Fricton roll: \", mu*m*g*math.cos(theta))\n",
    "    print(\"Friction: \", m*g*math.sin(theta))\n",
    "    print(\"Inertia: \",m*y[i])\n",
    "    print(f'Velocity: {velocity[i]}')\n",
    "    print(f'Acceleration: {y[i]}')\n",
    "    print()"
   ]
  },
  {
   "cell_type": "code",
   "execution_count": null,
   "id": "a1c6f405",
   "metadata": {},
   "outputs": [],
   "source": [
    "power = np.array([ (Fd(m, y[i], velocity[i]/3.6, mu, Cd, A, 0)*(velocity[i]/3.6)) for i in range(len(y))]\n",
    "                 ,dtype=float)"
   ]
  },
  {
   "cell_type": "code",
   "execution_count": null,
   "id": "0d03a442",
   "metadata": {},
   "outputs": [],
   "source": [
    "power"
   ]
  },
  {
   "cell_type": "code",
   "execution_count": null,
   "id": "334f3df9",
   "metadata": {},
   "outputs": [],
   "source": [
    "\n",
    "fig = go.Figure([go.Scatter(x=dates, y=power)])\n",
    "fig.show()"
   ]
  },
  {
   "cell_type": "code",
   "execution_count": null,
   "id": "370f5013",
   "metadata": {},
   "outputs": [],
   "source": [
    "y"
   ]
  },
  {
   "cell_type": "code",
   "execution_count": null,
   "id": "e2c32c72",
   "metadata": {},
   "outputs": [],
   "source": [
    "def unevenTrap(y, t):\n",
    "    area = []\n",
    "    total = 0\n",
    "    dT = np.diff(t)\n",
    "    for i in range(len(y)-1):\n",
    "        temp = (y[i] + y[i+1])*dT[i]/2\n",
    "        total += temp\n",
    "        area = np.append(area, temp)\n",
    "        \n",
    "    return area, total"
   ]
  },
  {
   "cell_type": "code",
   "execution_count": null,
   "id": "faba7c4a",
   "metadata": {},
   "outputs": [],
   "source": [
    "t = getTimestampArr(dates)\n",
    "\n",
    "a, b = unevenTrap(power, t)\n",
    "\n",
    "b"
   ]
  },
  {
   "cell_type": "code",
   "execution_count": null,
   "id": "8cb31e85",
   "metadata": {},
   "outputs": [],
   "source": [
    "b/(1000*3600)"
   ]
  },
  {
   "cell_type": "code",
   "execution_count": 13,
   "id": "50141f04",
   "metadata": {},
   "outputs": [],
   "source": [
    "group = df_clean.withColumn(\"Minute\", minute(df_clean.Date)).groupBy('Minute', window(\"Date\", \"10 seconds\")).agg(\n",
    "    mean(\"velocity\").alias(\"grouped_velocity\"), \n",
    "    expr(\"collect_list(velocity)\").alias(\"velocity list\")\n",
    ")"
   ]
  },
  {
   "cell_type": "code",
   "execution_count": 14,
   "id": "9057bee1",
   "metadata": {},
   "outputs": [
    {
     "data": {
      "text/plain": [
       "115"
      ]
     },
     "execution_count": 14,
     "metadata": {},
     "output_type": "execute_result"
    }
   ],
   "source": [
    "group.count()"
   ]
  },
  {
   "cell_type": "code",
   "execution_count": 15,
   "id": "7215c67d",
   "metadata": {
    "scrolled": false
   },
   "outputs": [],
   "source": [
    "df_resampled = group.withColumn(\"Start\", group.window.start).withColumn(\"End\", group.window.end).sort(\"Start\")\n",
    "df_resampled = df_resampled.withColumn(\"Date\",from_unixtime((unix_timestamp(df_resampled.Start) + unix_timestamp(df_resampled.End))/2, \"yyyy-MM-dd HH:mm:ss\"))\n"
   ]
  },
  {
   "cell_type": "code",
   "execution_count": 16,
   "id": "202f6d80",
   "metadata": {},
   "outputs": [
    {
     "name": "stdout",
     "output_type": "stream",
     "text": [
      "+------+--------------------+----------------+-------------+-------------------+-------------------+-------------------+\n",
      "|Minute|              window|grouped_velocity|velocity list|              Start|                End|               Date|\n",
      "+------+--------------------+----------------+-------------+-------------------+-------------------+-------------------+\n",
      "|    21|{2022-08-01 23:21...|             0.0|       [0, 0]|2022-08-01 23:21:40|2022-08-01 23:21:50|2022-08-01 23:21:45|\n",
      "|    23|{2022-08-01 23:23...|            15.0|     [13, 17]|2022-08-01 23:23:00|2022-08-01 23:23:10|2022-08-01 23:23:05|\n",
      "|    23|{2022-08-01 23:23...|            39.0|         [39]|2022-08-01 23:23:10|2022-08-01 23:23:20|2022-08-01 23:23:15|\n",
      "|    23|{2022-08-01 23:23...|            46.0|         [46]|2022-08-01 23:23:20|2022-08-01 23:23:30|2022-08-01 23:23:25|\n",
      "|    23|{2022-08-01 23:23...|            48.0|         [48]|2022-08-01 23:23:40|2022-08-01 23:23:50|2022-08-01 23:23:45|\n",
      "|    23|{2022-08-01 23:23...|            19.0|         [19]|2022-08-01 23:23:50|2022-08-01 23:24:00|2022-08-01 23:23:55|\n",
      "|    24|{2022-08-01 23:24...|            21.0|         [21]|2022-08-01 23:24:00|2022-08-01 23:24:10|2022-08-01 23:24:05|\n",
      "|    24|{2022-08-01 23:24...|            38.0|         [38]|2022-08-01 23:24:10|2022-08-01 23:24:20|2022-08-01 23:24:15|\n",
      "|    24|{2022-08-01 23:24...|            32.0|         [32]|2022-08-01 23:24:20|2022-08-01 23:24:30|2022-08-01 23:24:25|\n",
      "|    24|{2022-08-01 23:24...|            48.0|         [48]|2022-08-01 23:24:30|2022-08-01 23:24:40|2022-08-01 23:24:35|\n",
      "|    24|{2022-08-01 23:24...|            23.0|         [23]|2022-08-01 23:24:50|2022-08-01 23:25:00|2022-08-01 23:24:55|\n",
      "|    25|{2022-08-01 23:25...|            52.0|         [52]|2022-08-01 23:25:00|2022-08-01 23:25:10|2022-08-01 23:25:05|\n",
      "|    25|{2022-08-01 23:25...|            58.0|         [58]|2022-08-01 23:25:10|2022-08-01 23:25:20|2022-08-01 23:25:15|\n",
      "|    25|{2022-08-01 23:25...|            58.0|         [58]|2022-08-01 23:25:20|2022-08-01 23:25:30|2022-08-01 23:25:25|\n",
      "|    25|{2022-08-01 23:25...|            69.0|         [69]|2022-08-01 23:25:30|2022-08-01 23:25:40|2022-08-01 23:25:35|\n",
      "|    25|{2022-08-01 23:25...|            72.0|         [72]|2022-08-01 23:25:40|2022-08-01 23:25:50|2022-08-01 23:25:45|\n",
      "|    25|{2022-08-01 23:25...|            72.0|     [72, 72]|2022-08-01 23:25:50|2022-08-01 23:26:00|2022-08-01 23:25:55|\n",
      "|    26|{2022-08-01 23:26...|            62.0|         [62]|2022-08-01 23:26:00|2022-08-01 23:26:10|2022-08-01 23:26:05|\n",
      "|    26|{2022-08-01 23:26...|            17.0|         [17]|2022-08-01 23:26:10|2022-08-01 23:26:20|2022-08-01 23:26:15|\n",
      "|    26|{2022-08-01 23:26...|            40.0|         [40]|2022-08-01 23:26:30|2022-08-01 23:26:40|2022-08-01 23:26:35|\n",
      "+------+--------------------+----------------+-------------+-------------------+-------------------+-------------------+\n",
      "only showing top 20 rows\n",
      "\n"
     ]
    }
   ],
   "source": [
    "df_resampled.show()"
   ]
  },
  {
   "cell_type": "code",
   "execution_count": 17,
   "id": "ee9d7a1a",
   "metadata": {},
   "outputs": [],
   "source": [
    "v_clean = df_resampled.select([\"Date\", \"Start\", \"End\", \"grouped_velocity\"]).withColumnRenamed(\"grouped_velocity\", \"velocity\")"
   ]
  },
  {
   "cell_type": "code",
   "execution_count": null,
   "id": "ee9ee8fc",
   "metadata": {},
   "outputs": [],
   "source": [
    "np.diff(np.array([datetime.strptime(x.Ave, \"%Y-%m-%d %H:%M:%S\") for x in df_resampled.select(\"Ave\").collect()]))\n",
    "\n",
    "\n"
   ]
  },
  {
   "cell_type": "code",
   "execution_count": 18,
   "id": "68eccfd2",
   "metadata": {},
   "outputs": [],
   "source": [
    "v_clean = v_clean.withColumn(\"Date\", to_timestamp(v_clean.Date, \"yyyy-MM-dd HH:mm:ss\"))"
   ]
  },
  {
   "cell_type": "code",
   "execution_count": 19,
   "id": "699a0191",
   "metadata": {},
   "outputs": [
    {
     "data": {
      "image/png": "[encoded data removed]",
      "text/plain": [
       "<Figure size 432x288 with 1 Axes>"
      ]
     },
     "metadata": {
      "needs_background": "light"
     },
     "output_type": "display_data"
    }
   ],
   "source": [
    "plotVelocity(v_clean)"
   ]
  },
  {
   "cell_type": "code",
   "execution_count": 22,
   "id": "1437819e",
   "metadata": {},
   "outputs": [
    {
     "data": {
      "text/plain": [
       "[1659388905.0,\n",
       " 1659388985.0,\n",
       " 1659388995.0,\n",
       " 1659389005.0,\n",
       " 1659389025.0,\n",
       " 1659389035.0,\n",
       " 1659389045.0,\n",
       " 1659389055.0,\n",
       " 1659389065.0,\n",
       " 1659389075.0,\n",
       " 1659389095.0,\n",
       " 1659389105.0,\n",
       " 1659389115.0,\n",
       " 1659389125.0,\n",
       " 1659389135.0,\n",
       " 1659389145.0,\n",
       " 1659389155.0,\n",
       " 1659389165.0,\n",
       " 1659389175.0,\n",
       " 1659389195.0,\n",
       " 1659389205.0,\n",
       " 1659389215.0,\n",
       " 1659389225.0,\n",
       " 1659389235.0,\n",
       " 1659389245.0,\n",
       " 1659389255.0,\n",
       " 1659389265.0,\n",
       " 1659389275.0,\n",
       " 1659389345.0,\n",
       " 1659389355.0,\n",
       " 1659389365.0,\n",
       " 1659389385.0,\n",
       " 1659389395.0,\n",
       " 1659389455.0,\n",
       " 1659389465.0,\n",
       " 1659389475.0,\n",
       " 1659389505.0,\n",
       " 1659389515.0,\n",
       " 1659389545.0,\n",
       " 1659389555.0,\n",
       " 1659389565.0,\n",
       " 1659389575.0,\n",
       " 1659389585.0,\n",
       " 1659389595.0,\n",
       " 1659389605.0,\n",
       " 1659389615.0,\n",
       " 1659389625.0,\n",
       " 1659389655.0,\n",
       " 1659389665.0,\n",
       " 1659389675.0,\n",
       " 1659389685.0,\n",
       " 1659389695.0,\n",
       " 1659389705.0,\n",
       " 1659389715.0,\n",
       " 1659389725.0,\n",
       " 1659389735.0,\n",
       " 1659389745.0,\n",
       " 1659389755.0,\n",
       " 1659389765.0,\n",
       " 1659389775.0,\n",
       " 1659389785.0,\n",
       " 1659389805.0,\n",
       " 1659389815.0,\n",
       " 1659389825.0,\n",
       " 1659389835.0,\n",
       " 1659389845.0,\n",
       " 1659389855.0,\n",
       " 1659389865.0,\n",
       " 1659389875.0,\n",
       " 1659389885.0,\n",
       " 1659389895.0,\n",
       " 1659389905.0,\n",
       " 1659389915.0,\n",
       " 1659389925.0,\n",
       " 1659389935.0,\n",
       " 1659389945.0,\n",
       " 1659389955.0,\n",
       " 1659389965.0,\n",
       " 1659389975.0,\n",
       " 1659389985.0,\n",
       " 1659389995.0,\n",
       " 1659390005.0,\n",
       " 1659390015.0,\n",
       " 1659390025.0,\n",
       " 1659390035.0,\n",
       " 1659390045.0,\n",
       " 1659390055.0,\n",
       " 1659390065.0,\n",
       " 1659390075.0,\n",
       " 1659390085.0,\n",
       " 1659390095.0,\n",
       " 1659390105.0,\n",
       " 1659390115.0,\n",
       " 1659390125.0,\n",
       " 1659390135.0,\n",
       " 1659390145.0,\n",
       " 1659390155.0,\n",
       " 1659390175.0,\n",
       " 1659390185.0,\n",
       " 1659390195.0,\n",
       " 1659390205.0,\n",
       " 1659390215.0,\n",
       " 1659390235.0,\n",
       " 1659390245.0,\n",
       " 1659390255.0,\n",
       " 1659390275.0,\n",
       " 1659390285.0,\n",
       " 1659390335.0,\n",
       " 1659390345.0,\n",
       " 1659390355.0,\n",
       " 1659390375.0,\n",
       " 1659390385.0,\n",
       " 1659390395.0,\n",
       " 1659390405.0,\n",
       " 1659390425.0]"
      ]
     },
     "execution_count": 22,
     "metadata": {},
     "output_type": "execute_result"
    }
   ],
   "source": [
    "dates"
   ]
  },
  {
   "cell_type": "code",
   "execution_count": 37,
   "id": "485737cf",
   "metadata": {},
   "outputs": [],
   "source": [
    "diff = np.diff([getTimestamp(x.Date) for x in v_clean.select(\"Date\").collect()])\n",
    "dates = [getTimestamp(x.Date) for x in v_clean.select(\"Date\").collect()]"
   ]
  },
  {
   "cell_type": "code",
   "execution_count": 38,
   "id": "45be5358",
   "metadata": {},
   "outputs": [],
   "source": [
    "for i, td in enumerate(diff):\n",
    "    if td > 10:\n",
    "        timeInfo.append([i, td/10])"
   ]
  },
  {
   "cell_type": "code",
   "execution_count": 99,
   "id": "4356196d",
   "metadata": {},
   "outputs": [
    {
     "data": {
      "text/plain": [
       "array([  8.,  11.,  17.,  26.,  35.,  38.,  40.,  43.,  45.,  54.,  68.,\n",
       "       104., 109., 112., 114., 117., 121.])"
      ]
     },
     "execution_count": 99,
     "metadata": {},
     "output_type": "execute_result"
    }
   ],
   "source": [
    "np.array(timeInfo)[:,0]+8"
   ]
  },
  {
   "cell_type": "code",
   "execution_count": 76,
   "id": "e2059f98",
   "metadata": {},
   "outputs": [],
   "source": [
    "time = list(np.copy(dates))"
   ]
  },
  {
   "cell_type": "code",
   "execution_count": 77,
   "id": "bd341210",
   "metadata": {},
   "outputs": [],
   "source": [
    "inserts = []\n",
    "for x in timeInfo:\n",
    "    i, d = x[0], x[1]\n",
    "    start = time[i]\n",
    "    end = time[i+1]\n",
    "    #print(f'start {start} | end {end}')\n",
    "    temp = start\n",
    "    row = []\n",
    "    for j in range(int(d)-1):\n",
    "        temp += 10\n",
    "        row.append(temp)\n",
    "    inserts.append(row)"
   ]
  },
  {
   "cell_type": "code",
   "execution_count": 78,
   "id": "5cd384ba",
   "metadata": {},
   "outputs": [],
   "source": [
    "def insertList(_list,i, insertee):\n",
    "    j = i \n",
    "    for x in insertee:\n",
    "        _list.insert(j, x)\n",
    "        print(j)\n",
    "        j+=1\n",
    "        \n",
    "    return _list"
   ]
  },
  {
   "cell_type": "code",
   "execution_count": 79,
   "id": "e7051102",
   "metadata": {},
   "outputs": [
    {
     "name": "stdout",
     "output_type": "stream",
     "text": [
      "1\n",
      "2\n",
      "3\n"
     ]
    },
    {
     "data": {
      "text/plain": [
       "[0, 1, 2, 3, 4]"
      ]
     },
     "execution_count": 79,
     "metadata": {},
     "output_type": "execute_result"
    }
   ],
   "source": [
    "a  = [1, 2, 3]\n",
    "b = [0, 4]\n",
    "\n",
    "insertList(b, 1, a )"
   ]
  },
  {
   "cell_type": "code",
   "execution_count": 87,
   "id": "3ff06866",
   "metadata": {
    "collapsed": true
   },
   "outputs": [
    {
     "name": "stdout",
     "output_type": "stream",
     "text": [
      "1\n",
      "8\n",
      "4\n",
      "5\n",
      "10\n",
      "11\n",
      "19\n",
      "20\n",
      "28\n",
      "34\n",
      "31\n",
      "32\n",
      "33\n",
      "38\n",
      "36\n",
      "38\n",
      "38\n",
      "40\n",
      "47\n",
      "49\n",
      "61\n",
      "62\n",
      "97\n",
      "98\n",
      "102\n",
      "103\n",
      "105\n",
      "106\n",
      "107\n",
      "111\n",
      "110\n",
      "111\n",
      "114\n",
      "115\n"
     ]
    }
   ],
   "source": [
    "d = 0\n",
    "for i,x in enumerate(inserts):\n",
    "    a = timeInfo[i][0] + 1\n",
    "    j = a + d\n",
    "    print(a)\n",
    "    #time = insertList(time, j, x)\n",
    "    d = len(x)\n",
    "    print(a+d)\n",
    "    "
   ]
  },
  {
   "cell_type": "code",
   "execution_count": 91,
   "id": "4c2c4186",
   "metadata": {
    "collapsed": true
   },
   "outputs": [
    {
     "data": {
      "text/plain": [
       "[[0, 8.0],\n",
       " [3, 2.0],\n",
       " [9, 2.0],\n",
       " [18, 2.0],\n",
       " [27, 7.0],\n",
       " [30, 2.0],\n",
       " [32, 6.0],\n",
       " [35, 3.0],\n",
       " [37, 3.0],\n",
       " [46, 3.0],\n",
       " [60, 2.0],\n",
       " [96, 2.0],\n",
       " [101, 2.0],\n",
       " [104, 2.0],\n",
       " [106, 5.0],\n",
       " [109, 2.0],\n",
       " [113, 2.0]]"
      ]
     },
     "execution_count": 91,
     "metadata": {},
     "output_type": "execute_result"
    }
   ],
   "source": [
    "timeInfo[:]"
   ]
  },
  {
   "cell_type": "code",
   "execution_count": 74,
   "id": "2e158c5e",
   "metadata": {},
   "outputs": [
    {
     "data": {
      "text/plain": [
       "267"
      ]
     },
     "execution_count": 74,
     "metadata": {},
     "output_type": "execute_result"
    }
   ],
   "source": [
    "len(time)"
   ]
  },
  {
   "cell_type": "code",
   "execution_count": 83,
   "id": "e687eb7f",
   "metadata": {
    "collapsed": true
   },
   "outputs": [
    {
     "data": {
      "text/plain": [
       "array([80., 10., 10., 20., 10., 10., 10., 10., 10., 20., 10., 10., 10.,\n",
       "       10., 10., 10., 10., 10., 20., 10., 10., 10., 10., 10., 10., 10.,\n",
       "       10., 70., 10., 10., 20., 10., 60., 10., 10., 30., 10., 30., 10.,\n",
       "       10., 10., 10., 10., 10., 10., 10., 30., 10., 10., 10., 10., 10.,\n",
       "       10., 10., 10., 10., 10., 10., 10., 10., 20., 10., 10., 10., 10.,\n",
       "       10., 10., 10., 10., 10., 10., 10., 10., 10., 10., 10., 10., 10.,\n",
       "       10., 10., 10., 10., 10., 10., 10., 10., 10., 10., 10., 10., 10.,\n",
       "       10., 10., 10., 10., 10., 20., 10., 10., 10., 10., 20., 10., 10.,\n",
       "       20., 10., 50., 10., 10., 20., 10., 10., 10., 20.])"
      ]
     },
     "execution_count": 83,
     "metadata": {},
     "output_type": "execute_result"
    }
   ],
   "source": [
    "np.diff(dates)"
   ]
  },
  {
   "cell_type": "code",
   "execution_count": null,
   "id": "712e841d",
   "metadata": {},
   "outputs": [],
   "source": [
    "def updateTimeInfo(timeInfo, d):\n",
    "    timeInfo[:,0] = timeInfo[:,0] + d \n",
    "    "
   ]
  }
 ],
 "metadata": {
  "kernelspec": {
   "display_name": "geo_env",
   "language": "python",
   "name": "geo_env"
  },
  "language_info": {
   "codemirror_mode": {
    "name": "ipython",
    "version": 3
   },
   "file_extension": ".py",
   "mimetype": "text/x-python",
   "name": "python",
   "nbconvert_exporter": "python",
   "pygments_lexer": "ipython3",
   "version": "3.10.5"
  }
 },
 "nbformat": 4,
 "nbformat_minor": 5
}
