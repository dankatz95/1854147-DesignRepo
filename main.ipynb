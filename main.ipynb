{
 "cells": [
  {
   "cell_type": "code",
   "execution_count": 1,
   "id": "c9b29b82",
   "metadata": {},
   "outputs": [],
   "source": [
    "import pyspark\n",
    "from pyspark.sql import SparkSession\n",
    "from pyspark.sql.functions import *\n",
    "\n",
    "import matplotlib.pyplot as plt\n",
    "import seaborn\n",
    "\n",
    "import os\n",
    "import glob\n",
    "\n",
    "import numpy as np\n",
    "import math\n",
    "\n",
    "from urllib import request, error\n",
    "import json\n",
    "\n",
    "import datetime, time\n",
    "from datetime import datetime\n",
    "\n",
    "\n",
    "\n",
    "import geopandas as gpd\n",
    "import geopy\n",
    "from geopy.geocoders import Nominatim\n",
    "import os\n",
    "import plotly\n",
    "import plotly.express as ex\n",
    "import plotly.graph_objs as go\n",
    "import matplotlib.pyplot as plt"
   ]
  },
  {
   "cell_type": "code",
   "execution_count": 2,
   "id": "8ab51346",
   "metadata": {
    "scrolled": true
   },
   "outputs": [],
   "source": [
    "from functions.Plots import *\n",
    "from functions.PowerCalculation import *\n",
    "from functions.Resample import *\n",
    "from functions.StopPointDetection import *\n",
    "from functions.Elevation import getElevation\n",
    "#from functions.Preprocessing import * "
   ]
  },
  {
   "cell_type": "code",
   "execution_count": null,
   "id": "2748a0f6",
   "metadata": {},
   "outputs": [],
   "source": [
    "import pymongo\n",
    "\n",
    "class tag:\n",
    "    def __init__(self, numPlate):\n",
    "        self.numPlate = numPlate\n",
    "    def getLatTag(self):\n",
    "        return self.numPlate + \"_lat\"\n",
    "    def getVelocityTag(self):\n",
    "        return self.numPlate + \"_V\"\n",
    "    def getLngTag(self):\n",
    "        return self.numPlate + \"_lng\"\n",
    "    def getNumPlate(self):\n",
    "        return self.numPlate\n",
    "    \n",
    "car = tag(\"KF44LNGP\")\n",
    "\n",
    "def latCollection(date, lat, tag):\n",
    "    col = []\n",
    "    for i in range(len(date)):\n",
    "        temp = {\n",
    "            \"tag\": tag, \n",
    "            #\"date\": date[i],\n",
    "            \"timestamp\": date[i],\n",
    "            \"latitude\": lat[i]\n",
    "        }\n",
    "        \n",
    "        col.append(temp)\n",
    "    return col\n",
    "\n",
    "def velCollection(date, velocity, tag):\n",
    "    col = []\n",
    "    for i in range(len(date)):\n",
    "        temp = {\n",
    "            \"tag\": tag, \n",
    "            #\"date\": date[i],\n",
    "            \"timestamp\": date[i],           \n",
    "            \"velocity\": int(velocity[i])\n",
    "        }\n",
    "        \n",
    "        col.append(temp)\n",
    "    return col\n",
    "\n",
    "def lngCollection(date, lng, tag):\n",
    "    col = []\n",
    "    for i in range(len(date)):\n",
    "        temp = {\n",
    "            \"tag\": tag, \n",
    "            #\"date\": date[i],\n",
    "            \"timestamp\": date[i],\n",
    "            \"longitude\": lng[i]\n",
    "        }\n",
    "        \n",
    "        col.append(temp)\n",
    "    return col\n"
   ]
  },
  {
   "cell_type": "code",
   "execution_count": 6,
   "id": "dcc3eff8",
   "metadata": {},
   "outputs": [],
   "source": [
    "spark = SparkSession.builder.appName(\"App\").getOrCreate()"
   ]
  },
  {
   "cell_type": "code",
   "execution_count": 7,
   "id": "8f43d2a8",
   "metadata": {},
   "outputs": [],
   "source": [
    "data_dir = 'D:\\\\Telematics\\\\Car Track\\\\Data\\\\Joined'\n",
    "file = os.path.join(data_dir, os.listdir(data_dir)[0])\n",
    "df = spark.read.csv(file, inferSchema=True, header=True)\n",
    "# Test one trip\n",
    "#df = spark.read.csv(os.path.join(data_dir, os.listdir(data_dir)[0]), inferSchema=True, header=True, sep=\";\")\n",
    "df_clean = df.drop(\"Events\", \"Vision Events\", \"Geofences\", \"Location\", \"Odometer\", \"Linear G\", \"Lateral G\", \"Road Speed\").dropDuplicates().sort(\"Date\").withColumnRenamed(\"Speed\", \"velocity\")"
   ]
  },
  {
   "cell_type": "code",
   "execution_count": 8,
   "id": "df79c05f",
   "metadata": {},
   "outputs": [
    {
     "data": {
      "text/plain": [
       "3"
      ]
     },
     "execution_count": 8,
     "metadata": {},
     "output_type": "execute_result"
    }
   ],
   "source": [
    "df_update = df_clean.repartition(3)\n",
    "df_update.rdd.getNumPartitions()"
   ]
  },
  {
   "cell_type": "code",
   "execution_count": 12,
   "id": "9ee76320",
   "metadata": {},
   "outputs": [
    {
     "name": "stdout",
     "output_type": "stream",
     "text": [
      "+--------+----------+\n",
      "|velocity|Partitions|\n",
      "+--------+----------+\n",
      "|      88|         0|\n",
      "|      30|         0|\n",
      "|     141|         0|\n",
      "|       1|         0|\n",
      "|      71|         0|\n",
      "|     119|         0|\n",
      "|      83|         0|\n",
      "|     104|         0|\n",
      "|      54|         0|\n",
      "|      93|         0|\n",
      "|     123|         0|\n",
      "|      56|         0|\n",
      "|      42|         0|\n",
      "|      41|         0|\n",
      "|      64|         0|\n",
      "|     129|         0|\n",
      "|      29|         0|\n",
      "|      95|         0|\n",
      "|      68|         0|\n",
      "|       6|         0|\n",
      "|      59|         0|\n",
      "|      23|         0|\n",
      "|     127|         0|\n",
      "|      61|         0|\n",
      "|     107|         0|\n",
      "|       4|         0|\n",
      "|      26|         0|\n",
      "|     122|         0|\n",
      "|     124|         0|\n",
      "|      16|         0|\n",
      "|     144|         0|\n",
      "|     135|         0|\n",
      "|      39|         0|\n",
      "|      63|         0|\n",
      "|     101|         0|\n",
      "|     118|         0|\n",
      "|      86|         0|\n",
      "|     111|         0|\n",
      "|     108|         0|\n",
      "|      46|         0|\n",
      "|     120|         0|\n",
      "|      84|         0|\n",
      "|     121|         0|\n",
      "|     133|         0|\n",
      "|       0|         0|\n",
      "|      85|         0|\n",
      "|     136|         0|\n",
      "|      49|         0|\n",
      "|     132|         0|\n",
      "|      75|         0|\n",
      "|      58|         0|\n",
      "|      48|         0|\n",
      "|      87|         0|\n",
      "|      99|         0|\n",
      "|      50|         0|\n",
      "|      37|         0|\n",
      "|     145|         0|\n",
      "|      44|         0|\n",
      "|      91|         0|\n",
      "|      34|         0|\n",
      "|      96|         0|\n",
      "|      22|         0|\n",
      "|     131|         0|\n",
      "|     138|         0|\n",
      "|      72|         0|\n",
      "|      55|         0|\n",
      "|      14|         0|\n",
      "|     146|         0|\n",
      "|      21|         0|\n",
      "|      51|         0|\n",
      "|      94|         0|\n",
      "|     142|         0|\n",
      "|      12|         0|\n",
      "|     109|         0|\n",
      "|      77|         0|\n",
      "|     106|         0|\n",
      "|     140|         0|\n",
      "|     102|         0|\n",
      "|     112|         0|\n",
      "|      79|         0|\n",
      "|      76|         0|\n",
      "|      90|         0|\n",
      "|      65|         0|\n",
      "|     117|         0|\n",
      "|     116|         0|\n",
      "|     105|         0|\n",
      "|      60|         0|\n",
      "|      32|         0|\n",
      "|     143|         0|\n",
      "|     103|         0|\n",
      "|      18|         0|\n",
      "|      11|         0|\n",
      "|       2|         0|\n",
      "|      28|         0|\n",
      "|      20|         0|\n",
      "|      66|         0|\n",
      "|      38|         0|\n",
      "|      92|         0|\n",
      "|      13|         0|\n",
      "|      89|         0|\n",
      "|      27|         0|\n",
      "|      70|         0|\n",
      "|      57|         0|\n",
      "|       5|         0|\n",
      "|      62|         0|\n",
      "|      82|         0|\n",
      "|     128|         0|\n",
      "|     125|         0|\n",
      "|      33|         0|\n",
      "|       8|         0|\n",
      "|      73|         0|\n",
      "|      36|         0|\n",
      "|       9|         0|\n",
      "|      78|         0|\n",
      "|      67|         0|\n",
      "|      53|         0|\n",
      "|      97|         0|\n",
      "|      24|         0|\n",
      "|      31|         0|\n",
      "|     115|         0|\n",
      "|      47|         0|\n",
      "|     110|         0|\n",
      "|     113|         0|\n",
      "|      74|         0|\n",
      "|      80|         0|\n",
      "|       3|         0|\n",
      "|     114|         0|\n",
      "|      10|         0|\n",
      "|      19|         0|\n",
      "|      81|         0|\n",
      "|     130|         0|\n",
      "|      98|         0|\n",
      "|      17|         0|\n",
      "|      45|         0|\n",
      "|      52|         0|\n",
      "|      43|         0|\n",
      "|     100|         0|\n",
      "|     137|         0|\n",
      "|      40|         0|\n",
      "|      15|         0|\n",
      "|       7|         0|\n",
      "|      35|         0|\n",
      "|     134|         0|\n",
      "|     139|         0|\n",
      "|      69|         0|\n",
      "|     126|         0|\n",
      "|     148|         0|\n",
      "|      25|         0|\n",
      "|     108|         1|\n",
      "|     105|         1|\n",
      "|     118|         1|\n",
      "|      62|         1|\n",
      "|      69|         1|\n",
      "|      17|         1|\n",
      "|      79|         1|\n",
      "|      58|         1|\n",
      "|       6|         1|\n",
      "|       3|         1|\n",
      "|      48|         1|\n",
      "|      18|         1|\n",
      "|     139|         1|\n",
      "|      72|         1|\n",
      "|      71|         1|\n",
      "|       7|         1|\n",
      "|     117|         1|\n",
      "|      25|         1|\n",
      "|     142|         1|\n",
      "|      11|         1|\n",
      "|     120|         1|\n",
      "|      96|         1|\n",
      "|       9|         1|\n",
      "|      36|         1|\n",
      "|     121|         1|\n",
      "|      66|         1|\n",
      "|     112|         1|\n",
      "|      87|         1|\n",
      "|     129|         1|\n",
      "|      15|         1|\n",
      "|     109|         1|\n",
      "|      41|         1|\n",
      "|      92|         1|\n",
      "|      73|         1|\n",
      "|      12|         1|\n",
      "|     111|         1|\n",
      "|      83|         1|\n",
      "|       1|         1|\n",
      "|     134|         1|\n",
      "|      28|         1|\n",
      "|      26|         1|\n",
      "|     136|         1|\n",
      "|      31|         1|\n",
      "|      77|         1|\n",
      "|      89|         1|\n",
      "|      59|         1|\n",
      "|      24|         1|\n",
      "|      19|         1|\n",
      "|     104|         1|\n",
      "|     102|         1|\n",
      "|      74|         1|\n",
      "|      44|         1|\n",
      "|     131|         1|\n",
      "|     122|         1|\n",
      "|      60|         1|\n",
      "|     100|         1|\n",
      "|      54|         1|\n",
      "|      94|         1|\n",
      "|     125|         1|\n",
      "|     137|         1|\n",
      "|      90|         1|\n",
      "|      80|         1|\n",
      "|      10|         1|\n",
      "|      53|         1|\n",
      "|      65|         1|\n",
      "|      76|         1|\n",
      "|      47|         1|\n",
      "|     123|         1|\n",
      "|      45|         1|\n",
      "|      86|         1|\n",
      "|      91|         1|\n",
      "|       8|         1|\n",
      "|     132|         1|\n",
      "|     119|         1|\n",
      "|     124|         1|\n",
      "|     106|         1|\n",
      "|       2|         1|\n",
      "|     143|         1|\n",
      "|      67|         1|\n",
      "|     128|         1|\n",
      "|      49|         1|\n",
      "|     144|         1|\n",
      "|      97|         1|\n",
      "|      93|         1|\n",
      "|      32|         1|\n",
      "|      78|         1|\n",
      "|      51|         1|\n",
      "|     114|         1|\n",
      "|      81|         1|\n",
      "|     127|         1|\n",
      "|      29|         1|\n",
      "|      63|         1|\n",
      "|      16|         1|\n",
      "|     101|         1|\n",
      "|      52|         1|\n",
      "|     140|         1|\n",
      "|      34|         1|\n",
      "|      57|         1|\n",
      "|     126|         1|\n",
      "|       0|         1|\n",
      "|      33|         1|\n",
      "|      21|         1|\n",
      "|      43|         1|\n",
      "|      20|         1|\n",
      "|     115|         1|\n",
      "|      75|         1|\n",
      "|     110|         1|\n",
      "|      40|         1|\n",
      "|      95|         1|\n",
      "|     147|         1|\n",
      "|      55|         1|\n",
      "|      50|         1|\n",
      "|     103|         1|\n",
      "|      61|         1|\n",
      "|       5|         1|\n",
      "|      27|         1|\n",
      "|     133|         1|\n",
      "|      99|         1|\n",
      "|     138|         1|\n",
      "|      23|         1|\n",
      "|     141|         1|\n",
      "|      14|         1|\n",
      "|      46|         1|\n",
      "|     116|         1|\n",
      "|      85|         1|\n",
      "|      98|         1|\n",
      "|      39|         1|\n",
      "|      82|         1|\n",
      "|     130|         1|\n",
      "|      84|         1|\n",
      "|     107|         1|\n",
      "|       4|         1|\n",
      "|      13|         1|\n",
      "|      68|         1|\n",
      "|      88|         1|\n",
      "|     113|         1|\n",
      "|     146|         1|\n",
      "|      37|         1|\n",
      "|      42|         1|\n",
      "|      38|         1|\n",
      "|      22|         1|\n",
      "|      64|         1|\n",
      "|      30|         1|\n",
      "|     135|         1|\n",
      "|      70|         1|\n",
      "|      35|         1|\n",
      "|      56|         1|\n",
      "|      92|         2|\n",
      "|      10|         2|\n",
      "|      17|         2|\n",
      "|     112|         2|\n",
      "|     125|         2|\n",
      "|      72|         2|\n",
      "|     108|         2|\n",
      "|      31|         2|\n",
      "|     123|         2|\n",
      "|       2|         2|\n",
      "|      47|         2|\n",
      "|      87|         2|\n",
      "|      19|         2|\n",
      "|      70|         2|\n",
      "|      69|         2|\n",
      "|      20|         2|\n",
      "|      12|         2|\n",
      "|      35|         2|\n",
      "|       1|         2|\n",
      "|      27|         2|\n",
      "|      16|         2|\n",
      "|      86|         2|\n",
      "|      41|         2|\n",
      "|      88|         2|\n",
      "|     113|         2|\n",
      "|     121|         2|\n",
      "|      23|         2|\n",
      "|      49|         2|\n",
      "|      33|         2|\n",
      "|     133|         2|\n",
      "|      90|         2|\n",
      "|     102|         2|\n",
      "|      60|         2|\n",
      "|      74|         2|\n",
      "|      80|         2|\n",
      "|     122|         2|\n",
      "|      42|         2|\n",
      "|      97|         2|\n",
      "|      94|         2|\n",
      "|      39|         2|\n",
      "|     110|         2|\n",
      "|      95|         2|\n",
      "|      54|         2|\n",
      "|      15|         2|\n",
      "|      52|         2|\n",
      "|     105|         2|\n",
      "|     129|         2|\n",
      "|      61|         2|\n",
      "|       7|         2|\n",
      "|      67|         2|\n",
      "|      14|         2|\n",
      "|     104|         2|\n",
      "|      30|         2|\n",
      "|      68|         2|\n",
      "|      21|         2|\n",
      "|      25|         2|\n",
      "|      63|         2|\n",
      "|      91|         2|\n",
      "|      77|         2|\n",
      "|     118|         2|\n",
      "|      36|         2|\n",
      "|      65|         2|\n",
      "|       9|         2|\n",
      "|      73|         2|\n",
      "|      46|         2|\n",
      "|      71|         2|\n",
      "|      24|         2|\n",
      "|      82|         2|\n",
      "|     101|         2|\n",
      "|     149|         2|\n",
      "|     124|         2|\n",
      "|     119|         2|\n",
      "|     134|         2|\n",
      "|      34|         2|\n",
      "|     126|         2|\n",
      "|      28|         2|\n",
      "|     114|         2|\n",
      "|      53|         2|\n",
      "|     142|         2|\n",
      "|      29|         2|\n",
      "|     116|         2|\n",
      "|      38|         2|\n",
      "|      78|         2|\n",
      "|     131|         2|\n",
      "|     139|         2|\n",
      "|      98|         2|\n",
      "|     100|         2|\n",
      "|      59|         2|\n",
      "|     120|         2|\n",
      "|     130|         2|\n",
      "|       8|         2|\n",
      "|     138|         2|\n",
      "|       6|         2|\n",
      "|      51|         2|\n",
      "|     106|         2|\n",
      "|      18|         2|\n",
      "|      76|         2|\n",
      "|     111|         2|\n",
      "|      13|         2|\n",
      "|      99|         2|\n",
      "|       3|         2|\n",
      "|     107|         2|\n",
      "|       5|         2|\n",
      "|      37|         2|\n",
      "|      57|         2|\n",
      "|      50|         2|\n",
      "|      79|         2|\n",
      "|      83|         2|\n",
      "|      45|         2|\n",
      "|      56|         2|\n",
      "|      48|         2|\n",
      "|       0|         2|\n",
      "|      62|         2|\n",
      "|      81|         2|\n",
      "|     137|         2|\n",
      "|       4|         2|\n",
      "|     140|         2|\n",
      "|      43|         2|\n",
      "|      11|         2|\n",
      "|      66|         2|\n",
      "|     143|         2|\n",
      "|      44|         2|\n",
      "|      58|         2|\n",
      "|      96|         2|\n",
      "|     132|         2|\n",
      "|     144|         2|\n",
      "|      64|         2|\n",
      "|     127|         2|\n",
      "|     135|         2|\n",
      "|      85|         2|\n",
      "|      26|         2|\n",
      "|      55|         2|\n",
      "|      40|         2|\n",
      "|     109|         2|\n",
      "|     103|         2|\n",
      "|      22|         2|\n",
      "|     128|         2|\n",
      "|      84|         2|\n",
      "|     141|         2|\n",
      "|      89|         2|\n",
      "|      75|         2|\n",
      "|     145|         2|\n",
      "|     136|         2|\n",
      "|      93|         2|\n",
      "|     117|         2|\n",
      "|      32|         2|\n",
      "|     115|         2|\n",
      "+--------+----------+\n",
      "\n"
     ]
    }
   ],
   "source": [
    "df_update = df_update.withColumn(\"Partitions\", spark_partition_id())\n",
    "x = df_update.select(\"velocity\",\"Partitions\").distinct()\n",
    "x.show(n=1000)"
   ]
  },
  {
   "cell_type": "code",
   "execution_count": null,
   "id": "0171875a",
   "metadata": {},
   "outputs": [],
   "source": [
    "group = df_clean.withColumn(\"Minute\", minute(df_clean.Date)).groupBy('Minute', window(\"Date\", \"10 seconds\")).agg(\n",
    "    mean(\"velocity\").alias(\"velocity\"),\n",
    "    mean(\"Longitude\").alias(\"Longitude\"),\n",
    "    mean(\"Latitude\").alias(\"Latitude\"),\n",
    "    expr(\"collect_list(velocity)\").alias(\"velocity list\")\n",
    ")\n",
    "\n",
    "df_resampled = group.withColumn(\"Start\", group.window.start).withColumn(\"End\", group.window.end).sort(\"Start\")\n",
    "df_resampled = df_resampled.withColumn(\"Date\",from_unixtime((unix_timestamp(df_resampled.Start) + unix_timestamp(df_resampled.End))/2, \"yyyy-MM-dd HH:mm:ss\"))\n",
    "v_clean = df_resampled.select([\"Date\", \"Start\", \"End\", \"Velocity\", \"Latitude\", \"Longitude\"]).withColumn(\"Date\", to_timestamp(df_resampled.Date, \"yyyy-MM-dd HH:mm:ss\"))\n",
    "\n"
   ]
  },
  {
   "cell_type": "code",
   "execution_count": null,
   "id": "f5f22d17",
   "metadata": {},
   "outputs": [],
   "source": [
    "time, velocity = getTimeVelocity(v_clean)\n",
    "latitude, longitude = getCoordinates(v_clean)\n",
    "time_array = getTimestampArr(time)\n",
    "print(f'Time: {len(time)}  Velocity: {len(velocity)}')\n",
    "tGaps, indices = timeGaps(time_array, 10)\n",
    "\n",
    "stime, svelocity, slat, slng = resampleAll(time_array, velocity, latitude, longitude)\n",
    "#stime, svelocity = resampleTimeVelocity(time_array, velocity)\n",
    "\n",
    "#print(f'Time: {len(stime)}  Velocity: {len(svelocity)}')\n",
    "print(f'Time: {len(stime)}  Velocity: {len(svelocity)} Latitude: {len(latitude)} Longitude: {len(longitude)}')\n",
    "\n",
    "\n",
    "\n",
    "insertLat = latCollection(getDateTime(stime), slat, car.getLatTag())\n",
    "insertLng = lngCollection(getDateTime(stime), slng, car.getLngTag())\n",
    "\n",
    "\n",
    "\n",
    "fleet1.insert_many(insertLat)\n",
    "fleet1.insert_many(insertLng)"
   ]
  },
  {
   "cell_type": "code",
   "execution_count": null,
   "id": "b2f4a850",
   "metadata": {},
   "outputs": [],
   "source": [
    "plotTimeSeries(getDateTime(stime), svelocity)"
   ]
  },
  {
   "cell_type": "code",
   "execution_count": null,
   "id": "193bb110",
   "metadata": {},
   "outputs": [],
   "source": [
    "plotTimeSeries(getDateTime(stime), slat)"
   ]
  },
  {
   "cell_type": "code",
   "execution_count": null,
   "id": "5ff6c471",
   "metadata": {},
   "outputs": [],
   "source": [
    "plotTimeSeries(getDateTime(stime), slng)"
   ]
  },
  {
   "cell_type": "code",
   "execution_count": null,
   "id": "cdef127d",
   "metadata": {},
   "outputs": [],
   "source": []
  },
  {
   "cell_type": "code",
   "execution_count": null,
   "id": "3a397786",
   "metadata": {},
   "outputs": [],
   "source": [
    "insertVel = velCollection(date, velocity, car.getVelocityTag())"
   ]
  },
  {
   "cell_type": "code",
   "execution_count": null,
   "id": "905de4e2",
   "metadata": {},
   "outputs": [],
   "source": []
  },
  {
   "cell_type": "code",
   "execution_count": null,
   "id": "cf52b49d",
   "metadata": {},
   "outputs": [],
   "source": []
  },
  {
   "cell_type": "code",
   "execution_count": null,
   "id": "5bc722ee",
   "metadata": {},
   "outputs": [],
   "source": [
    "v_clean.show()"
   ]
  },
  {
   "cell_type": "code",
   "execution_count": null,
   "id": "d4af9694",
   "metadata": {},
   "outputs": [],
   "source": [
    "time, velocity = getTimeVelocity(v_clean)\n",
    "plotTimeSeries(time, velocity)"
   ]
  },
  {
   "cell_type": "code",
   "execution_count": null,
   "id": "3a42179b",
   "metadata": {},
   "outputs": [],
   "source": [
    "np.unique(np.diff(stime))"
   ]
  },
  {
   "cell_type": "code",
   "execution_count": null,
   "id": "1d2172cf",
   "metadata": {},
   "outputs": [],
   "source": [
    "plotTimeSeries(getDateTime(stime), svelocity)"
   ]
  },
  {
   "cell_type": "code",
   "execution_count": null,
   "id": "ce7c36d8",
   "metadata": {},
   "outputs": [],
   "source": [
    "\n",
    "insertLat = latCollection(getDateTime(stime), slat, car.getLatTag())\n",
    "insertLng = lngCollection(getDateTime(stime), slng, car.getLngTag())\n",
    "insertVel = velCollection(getDateTime(stime), svelocity, car.getVelocityTag())\n",
    "\n",
    "\n",
    "fleet1.insert_many(insertLat)\n",
    "fleet1.insert_many(insertLng)"
   ]
  },
  {
   "cell_type": "code",
   "execution_count": null,
   "id": "80fda07b",
   "metadata": {},
   "outputs": [],
   "source": [
    "client = pymongo.MongoClient()\n",
    "\n",
    "db = client['fleet']\n",
    "\n",
    "fleet1 = db['CarTrackProcessed']\n",
    "\n",
    "car = tag(\"KF44LNGP\")"
   ]
  },
  {
   "cell_type": "code",
   "execution_count": null,
   "id": "a9078320",
   "metadata": {},
   "outputs": [],
   "source": [
    "fleet1.insert_many(insertVel)"
   ]
  },
  {
   "cell_type": "code",
   "execution_count": null,
   "id": "b3e2a172",
   "metadata": {},
   "outputs": [],
   "source": [
    "N = len(stime)\n",
    "i = 0\n",
    "SP = []\n",
    "while i < N:\n",
    "    Token = 0\n",
    "    if svelocity[i] < 5:\n",
    "        start = i\n",
    "        j = i + 1\n",
    "        Token = 0\n",
    "        while j < N:\n",
    "            if svelocity[j] > 5:\n",
    "                if stime[j] - stime[i] > 300:\n",
    "                    end = j - 1\n",
    "                    t_arrive = stime[start]\n",
    "                    t_depart = stime[end]\n",
    "                    SP.append([t_arrive, t_depart, t_depart-t_arrive, [start+1, end-1]])\n",
    "                    i = j\n",
    "                    Token = 1\n",
    "                break\n",
    "            else:\n",
    "                j += 1\n",
    "    if Token != 1:\n",
    "        i +=1\n",
    "        "
   ]
  },
  {
   "cell_type": "code",
   "execution_count": null,
   "id": "5165823f",
   "metadata": {},
   "outputs": [],
   "source": [
    "stopIndex = [x[3] for x in SP]"
   ]
  },
  {
   "cell_type": "code",
   "execution_count": null,
   "id": "1a1556eb",
   "metadata": {},
   "outputs": [],
   "source": [
    "def getIndexSlice(StopPoints):\n",
    "    startStop = []\n",
    "    for i in range(len(StopPoints)-1):\n",
    "        if i == 0:\n",
    "            if StopPoints[i][0] < 6:\n",
    "                start = StopPoints[i][1]\n",
    "                end = StopPoints[i+1][0]\n",
    "                startStop.append((start,end))\n",
    "            else:\n",
    "                start = 0\n",
    "                end = StopPoints[i][0]\n",
    "                startStop.append((start,end))\n",
    "                startStop.append((StopPoints[i][1],StopPoints[i+1][0] ))\n",
    "                \n",
    "        else:\n",
    "            startStop.append((StopPoints[i][1],StopPoints[i+1][0] ))\n",
    "            \n",
    "    return startStop\n",
    "\n",
    "for s,f in startStop:\n",
    "    time_ = time[s:f]\n",
    "    vel_ = velocity[s:f]\n",
    "    \n"
   ]
  },
  {
   "cell_type": "code",
   "execution_count": null,
   "id": "99825953",
   "metadata": {},
   "outputs": [],
   "source": []
  },
  {
   "cell_type": "code",
   "execution_count": null,
   "id": "72c86b0f",
   "metadata": {},
   "outputs": [],
   "source": [
    "stopIndex"
   ]
  },
  {
   "cell_type": "code",
   "execution_count": null,
   "id": "b01f3338",
   "metadata": {},
   "outputs": [],
   "source": [
    "#plotFigure(df_clean)\n",
    "plotMap(df_clean)"
   ]
  },
  {
   "cell_type": "code",
   "execution_count": null,
   "id": "1be266dd",
   "metadata": {},
   "outputs": [],
   "source": [
    "days = [x.YMD for x in df_clean.select(\"Date\").withColumn(\"YMD\", date_format(df_clean.Date, \"yyyy MM dd\")).drop(\"Date\").distinct().sort(\"YMD\").collect()]"
   ]
  },
  {
   "cell_type": "code",
   "execution_count": null,
   "id": "f80724b5",
   "metadata": {},
   "outputs": [],
   "source": [
    "days_array = []\n",
    "for day in days:    \n",
    "    temp = df_clean.withColumn(\"YMD\", date_format(df_clean.Date, \"yyyy MM dd\"))\n",
    "    temp = temp.filter(temp.YMD == day)\n",
    "    days_array.append(temp.drop(\"YMD\"))\n"
   ]
  },
  {
   "cell_type": "code",
   "execution_count": null,
   "id": "777c582e",
   "metadata": {},
   "outputs": [],
   "source": [
    "test_day = days_array[11]\n",
    "distThresh = 200/1000\n",
    "tThresh = 5*60\n",
    "SP = StayPoint_Detection(test_day,distThresh=distThresh, timeThresh=tThresh)"
   ]
  },
  {
   "cell_type": "code",
   "execution_count": null,
   "id": "647864d6",
   "metadata": {},
   "outputs": [],
   "source": [
    "stop_points = []\n",
    "for i,day in enumerate(days_array):\n",
    "    if i != 10:\n",
    "        print(f'Day: {i}')\n",
    "        temp = zeroVelocityPoints(day)\n",
    "        stop_points.append(temp)"
   ]
  },
  {
   "cell_type": "code",
   "execution_count": null,
   "id": "31b81930",
   "metadata": {},
   "outputs": [],
   "source": [
    "lat_arr = []\n",
    "long_arr = []\n",
    "for day in stop_points:\n",
    "    for stop in day:\n",
    "        lat_arr.append(stop[0])\n",
    "        long_arr.append(stop[1])\n",
    "    "
   ]
  },
  {
   "cell_type": "code",
   "execution_count": null,
   "id": "27c37431",
   "metadata": {},
   "outputs": [],
   "source": [
    "elevation = getElevation(lat_arr, long_arr)"
   ]
  },
  {
   "cell_type": "code",
   "execution_count": null,
   "id": "7e75ae13",
   "metadata": {},
   "outputs": [],
   "source": [
    "elevation"
   ]
  },
  {
   "cell_type": "code",
   "execution_count": null,
   "id": "6d5b5c7d",
   "metadata": {},
   "outputs": [],
   "source": [
    "from sklearn.cluster import DBSCAN\n",
    "from collections import Counter\n",
    "from sklearn.preprocessing import StandardScaler"
   ]
  },
  {
   "cell_type": "code",
   "execution_count": null,
   "id": "a3c186b2",
   "metadata": {},
   "outputs": [],
   "source": [
    "lat, lon = getCoordinates(days_array[15])"
   ]
  },
  {
   "cell_type": "code",
   "execution_count": null,
   "id": "6db8a0f5",
   "metadata": {},
   "outputs": [],
   "source": []
  },
  {
   "cell_type": "code",
   "execution_count": null,
   "id": "9c806658",
   "metadata": {},
   "outputs": [],
   "source": [
    "plt.plot(long_arr, lat_arr, marker='.', linewidth=0, color ='#126128')\n",
    "plt.grid(which='major', color=\"#cccccc\")\n",
    "plt.title(\"Geo distribution of GPS tracker\")"
   ]
  },
  {
   "cell_type": "code",
   "execution_count": null,
   "id": "457e93cf",
   "metadata": {},
   "outputs": [],
   "source": [
    "len(lat_arr)"
   ]
  },
  {
   "cell_type": "code",
   "execution_count": null,
   "id": "91521a58",
   "metadata": {},
   "outputs": [],
   "source": [
    "D2 = np.zeros((len(lat_arr), 2), dtype='float32')"
   ]
  },
  {
   "cell_type": "code",
   "execution_count": null,
   "id": "39758925",
   "metadata": {},
   "outputs": [],
   "source": [
    "D2[:,0] = np.array(lat_arr)"
   ]
  },
  {
   "cell_type": "code",
   "execution_count": null,
   "id": "33973553",
   "metadata": {},
   "outputs": [],
   "source": [
    "D2[:,1] = np.array(long_arr)"
   ]
  },
  {
   "cell_type": "markdown",
   "id": "573dc70d",
   "metadata": {},
   "source": [
    "D2"
   ]
  },
  {
   "cell_type": "code",
   "execution_count": null,
   "id": "2cba9d16",
   "metadata": {},
   "outputs": [],
   "source": [
    "D2"
   ]
  },
  {
   "cell_type": "code",
   "execution_count": null,
   "id": "da549437",
   "metadata": {
    "scrolled": true
   },
   "outputs": [],
   "source": [
    "dbscan_scaler = StandardScaler().fit(D2)\n",
    "dbscan_data = dbscan_scaler.transform(D2)\n",
    "dbscan_data"
   ]
  },
  {
   "cell_type": "code",
   "execution_count": null,
   "id": "81919d51",
   "metadata": {},
   "outputs": [],
   "source": [
    "model = DBSCAN(eps= 0.25, min_samples=12, metric='euclidean').fit(dbscan_data)"
   ]
  },
  {
   "cell_type": "code",
   "execution_count": null,
   "id": "e791b953",
   "metadata": {},
   "outputs": [],
   "source": [
    "model"
   ]
  },
  {
   "cell_type": "code",
   "execution_count": null,
   "id": "99068b3b",
   "metadata": {},
   "outputs": [],
   "source": [
    "outliers = "
   ]
  },
  {
   "cell_type": "code",
   "execution_count": null,
   "id": "2ae2fb23",
   "metadata": {},
   "outputs": [],
   "source": []
  },
  {
   "cell_type": "code",
   "execution_count": null,
   "id": "d437cd27",
   "metadata": {},
   "outputs": [],
   "source": []
  },
  {
   "cell_type": "code",
   "execution_count": null,
   "id": "8e997fa8",
   "metadata": {},
   "outputs": [],
   "source": []
  },
  {
   "cell_type": "code",
   "execution_count": null,
   "id": "cf5b37fb",
   "metadata": {},
   "outputs": [],
   "source": []
  },
  {
   "cell_type": "code",
   "execution_count": null,
   "id": "5ecd0e13",
   "metadata": {},
   "outputs": [],
   "source": []
  },
  {
   "cell_type": "code",
   "execution_count": null,
   "id": "e4f3dd3f",
   "metadata": {},
   "outputs": [],
   "source": []
  },
  {
   "cell_type": "code",
   "execution_count": null,
   "id": "a9c2dade",
   "metadata": {},
   "outputs": [],
   "source": []
  },
  {
   "cell_type": "code",
   "execution_count": null,
   "id": "7c3df24c",
   "metadata": {},
   "outputs": [],
   "source": []
  },
  {
   "cell_type": "code",
   "execution_count": null,
   "id": "ce3787ad",
   "metadata": {},
   "outputs": [],
   "source": []
  },
  {
   "cell_type": "code",
   "execution_count": null,
   "id": "f7174ffc",
   "metadata": {},
   "outputs": [],
   "source": [
    "group = df_clean.withColumn(\"Minute\", minute(df_clean.Date)).groupBy('Minute', window(\"Date\", \"10 seconds\")).agg(\n",
    "    mean(\"velocity\").alias(\"velocity\"), \n",
    "    expr(\"collect_list(velocity)\").alias(\"velocity list\")\n",
    ")\n",
    "\n",
    "df_resampled = group.withColumn(\"Start\", group.window.start).withColumn(\"End\", group.window.end).sort(\"Start\")\n",
    "df_resampled = df_resampled.withColumn(\"Date\",from_unixtime((unix_timestamp(df_resampled.Start) + unix_timestamp(df_resampled.End))/2, \"yyyy-MM-dd HH:mm:ss\"))"
   ]
  },
  {
   "cell_type": "code",
   "execution_count": null,
   "id": "6d99e070",
   "metadata": {},
   "outputs": [],
   "source": [
    "v_clean = df_resampled.select([\"Date\", \"Start\", \"End\", \"velocity\"]).withColumn(\"Date\", to_timestamp(df_resampled.Date, \"yyyy-MM-dd HH:mm:ss\"))"
   ]
  },
  {
   "cell_type": "code",
   "execution_count": null,
   "id": "a099c022",
   "metadata": {},
   "outputs": [],
   "source": [
    "time, velocity = getTimeVelocity(v_clean)\n",
    "time_array = getTimestampArr(time)\n",
    "\n",
    "tGaps, indices = timeGaps(time_array, 10)"
   ]
  },
  {
   "cell_type": "code",
   "execution_count": null,
   "id": "9b130201",
   "metadata": {},
   "outputs": [],
   "source": [
    "getTimeVelocity(v_clean)"
   ]
  },
  {
   "cell_type": "code",
   "execution_count": null,
   "id": "846536de",
   "metadata": {},
   "outputs": [],
   "source": [
    "time, velocity = getTimeVelocity(v_clean)\n",
    "time_array = getTimestampArr(time)\n",
    "\n",
    "tGaps, indices = timeGaps(time_array, 10)\n",
    "\n",
    "for tg in tGaps:\n",
    "    i = getNextTimeGap(time_array, 10)\n",
    "    start = time_array[i]\n",
    "    end = time_array[i+1]\n",
    "    temp = start\n",
    "    row = []\n",
    "    for j in range(int(tg)-1):\n",
    "        temp += 10\n",
    "        row.append(temp)\n",
    "        \n",
    "    insertList(time_array, i+1, row)\n",
    "    insertVelocity(velocity, i, tg)\n",
    "    "
   ]
  },
  {
   "cell_type": "code",
   "execution_count": null,
   "id": "f51f6dfe",
   "metadata": {},
   "outputs": [],
   "source": [
    "len(velocity)"
   ]
  },
  {
   "cell_type": "code",
   "execution_count": null,
   "id": "740b2897",
   "metadata": {},
   "outputs": [],
   "source": [
    "len(time_array)"
   ]
  },
  {
   "cell_type": "code",
   "execution_count": null,
   "id": "209cc633",
   "metadata": {},
   "outputs": [],
   "source": [
    "_, acc = central_difference(time_array, velocity)"
   ]
  },
  {
   "cell_type": "code",
   "execution_count": null,
   "id": "61a8f16f",
   "metadata": {},
   "outputs": [],
   "source": [
    "fig = go.Figure([go.Scatter(x=time, y=velocity)])\n",
    "fig.show()\n",
    "\n",
    "\n",
    "fig = go.Figure([go.Scatter(x=time_array, y=acc)])\n",
    "fig.show()"
   ]
  },
  {
   "cell_type": "code",
   "execution_count": null,
   "id": "775cd425",
   "metadata": {},
   "outputs": [],
   "source": [
    "_, power = getPower(1300, acc, velocity, 0.02, 0.33, 1.75*1.48, theta=np.radians(5))"
   ]
  },
  {
   "cell_type": "code",
   "execution_count": null,
   "id": "02bbcc56",
   "metadata": {},
   "outputs": [],
   "source": [
    "fig = go.Figure([go.Scatter(x=[datetime.fromtimestamp(a) for a in time_array], y=power)])\n",
    "fig.show()"
   ]
  },
  {
   "cell_type": "code",
   "execution_count": null,
   "id": "c7d2789a",
   "metadata": {},
   "outputs": [],
   "source": [
    "energy = getTotalEnergy(time_array, power)"
   ]
  },
  {
   "cell_type": "code",
   "execution_count": null,
   "id": "45142b91",
   "metadata": {},
   "outputs": [],
   "source": [
    "lat, long = getCoordinates(df_clean)\n",
    "distance = getTotalDistance(lat, long)"
   ]
  },
  {
   "cell_type": "code",
   "execution_count": null,
   "id": "2171f523",
   "metadata": {},
   "outputs": [],
   "source": [
    "EPK(energy, distance)"
   ]
  },
  {
   "cell_type": "code",
   "execution_count": null,
   "id": "08d2e969",
   "metadata": {},
   "outputs": [],
   "source": [
    "getDistance(lat[0], long[0], lat[1], long[1])"
   ]
  },
  {
   "cell_type": "code",
   "execution_count": null,
   "id": "e47037ba",
   "metadata": {},
   "outputs": [],
   "source": [
    "distance"
   ]
  },
  {
   "cell_type": "code",
   "execution_count": null,
   "id": "9a8d7e2c",
   "metadata": {},
   "outputs": [],
   "source": [
    "df_clean.show()"
   ]
  },
  {
   "cell_type": "code",
   "execution_count": null,
   "id": "b48f71cb",
   "metadata": {},
   "outputs": [],
   "source": [
    "df_clean.describe().show()"
   ]
  },
  {
   "cell_type": "code",
   "execution_count": null,
   "id": "b46446fb",
   "metadata": {},
   "outputs": [],
   "source": []
  },
  {
   "cell_type": "code",
   "execution_count": null,
   "id": "391b96e2",
   "metadata": {},
   "outputs": [],
   "source": []
  },
  {
   "cell_type": "code",
   "execution_count": null,
   "id": "eb59b538",
   "metadata": {},
   "outputs": [],
   "source": []
  },
  {
   "cell_type": "code",
   "execution_count": null,
   "id": "5cac5b75",
   "metadata": {},
   "outputs": [],
   "source": [
    "import requests"
   ]
  },
  {
   "cell_type": "code",
   "execution_count": null,
   "id": "9910ae64",
   "metadata": {},
   "outputs": [],
   "source": [
    "r = requests.get('https://api.open-elevation.com/api/v1/lookup?locations=10,10|20,20|41.161758,-8.583933')\n",
    "#payload = {\"locations\":[\"26.13467 ,  28.229599]}\n",
    "\n",
    "print(r.status_code)"
   ]
  },
  {
   "cell_type": "code",
   "execution_count": null,
   "id": "a3a5a6ac",
   "metadata": {},
   "outputs": [],
   "source": [
    "payload = location\n",
    "base_url = 'https://api.open-elevation.com/api/v1/lookup'\n",
    "r = requests.get(base_url, params=payload)\n",
    "r.text"
   ]
  },
  {
   "cell_type": "code",
   "execution_count": null,
   "id": "741cf956",
   "metadata": {
    "scrolled": true
   },
   "outputs": [],
   "source": [
    "r.text"
   ]
  },
  {
   "cell_type": "code",
   "execution_count": null,
   "id": "84ea5654",
   "metadata": {},
   "outputs": [],
   "source": [
    "from urllib import request, error, parse\n",
    "import json\n",
    "i\n",
    "d_ar = [{}]* np.shape(D2)[0]"
   ]
  },
  {
   "cell_type": "code",
   "execution_count": null,
   "id": "4eb73128",
   "metadata": {},
   "outputs": [],
   "source": [
    "for i,x in enumerate(D2):\n",
    "    d_ar[i] = {\"latitude\":float(x[0]),\"longitude\":float(x[1])}\n",
    "d_ar"
   ]
  },
  {
   "cell_type": "code",
   "execution_count": null,
   "id": "e303ff9c",
   "metadata": {},
   "outputs": [],
   "source": [
    "location={\"locations\":d_ar}"
   ]
  },
  {
   "cell_type": "code",
   "execution_count": null,
   "id": "d2a77e90",
   "metadata": {},
   "outputs": [],
   "source": [
    "json_data = json.dumps(location, skipkeys=True).encode('utf8')\n",
    "response = request.Request(base_url, data=json_data, headers={'Content-Type': 'application/json'})"
   ]
  },
  {
   "cell_type": "code",
   "execution_count": null,
   "id": "5159cc30",
   "metadata": {},
   "outputs": [],
   "source": [
    "response"
   ]
  },
  {
   "cell_type": "code",
   "execution_count": null,
   "id": "c0a647d7",
   "metadata": {},
   "outputs": [],
   "source": [
    "fp=urllib.request.urlopen(response)\n",
    "\n",
    "#RESPONSE PROCESSING\n",
    "res_byte=fp.read()\n",
    "res_str=res_byte.decode(\"utf8\")\n",
    "js_str=json.loads(res_str)\n",
    "fp.close()"
   ]
  },
  {
   "cell_type": "code",
   "execution_count": null,
   "id": "a997a865",
   "metadata": {},
   "outputs": [],
   "source": [
    "elevation = [x['elevation'] for x in js_str['results']]"
   ]
  },
  {
   "cell_type": "code",
   "execution_count": null,
   "id": "5dd24b68",
   "metadata": {},
   "outputs": [],
   "source": [
    "fp=urllib.request.urlopen(response)\n",
    "res = json.load(fp)\n",
    "print(res)\n",
    "fp.close()"
   ]
  },
  {
   "cell_type": "code",
   "execution_count": null,
   "id": "fc75472a",
   "metadata": {},
   "outputs": [],
   "source": [
    "fp"
   ]
  },
  {
   "cell_type": "code",
   "execution_count": null,
   "id": "29b68910",
   "metadata": {},
   "outputs": [],
   "source": []
  },
  {
   "cell_type": "code",
   "execution_count": null,
   "id": "f4d125f9",
   "metadata": {},
   "outputs": [],
   "source": []
  }
 ],
 "metadata": {
  "kernelspec": {
   "display_name": "geo_env",
   "language": "python",
   "name": "geo_env"
  },
  "language_info": {
   "codemirror_mode": {
    "name": "ipython",
    "version": 3
   },
   "file_extension": ".py",
   "mimetype": "text/x-python",
   "name": "python",
   "nbconvert_exporter": "python",
   "pygments_lexer": "ipython3",
   "version": "3.10.5"
  }
 },
 "nbformat": 4,
 "nbformat_minor": 5
}
